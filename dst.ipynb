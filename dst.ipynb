{
 "cells": [
  {
   "cell_type": "markdown",
   "metadata": {},
   "source": [
    "# Importando os modulos a serem utilizados"
   ]
  },
  {
   "cell_type": "code",
   "execution_count": 3,
   "metadata": {},
   "outputs": [],
   "source": [
    "import numpy as np\n",
    "import matplotlib.pyplot as plt\n",
    "import pandas as pd\n",
    "import calendar as cg\n",
    "import matplotlib as mpl\n",
    "import pathlib as pt\n",
    "import os\n",
    "import re"
   ]
  },
  {
   "cell_type": "code",
   "execution_count": 8,
   "metadata": {},
   "outputs": [],
   "source": [
    "compilado = re.compile('\\d\\d\\d\\d')\n",
    "caminhodst = pt.Path('dados/dst')\n",
    "\n",
    "arquivos_dst = [dire for dire in caminhodst.glob('*.txt')]"
   ]
  },
  {
   "cell_type": "markdown",
   "metadata": {},
   "source": [
    "# Tratando a base de dados *Dst* devido a existência de informações no formato de tabela descritiva ao final de cada mês."
   ]
  },
  {
   "cell_type": "code",
   "execution_count": 12,
   "metadata": {},
   "outputs": [],
   "source": [
    "\n",
    "for arquivo in arquivos_dst:\n",
    "\n",
    "    ano = int(''.join(compilado.findall(str(arquivo))))\n",
    "    n = 18 #tamanho da tabela descritiva\n",
    "\n",
    "    q_dias_m = [cg.monthrange(year=ano, month=i)[1] for i in range(1, 13)] #quantidade de dias\n",
    "\n",
    "    f = ''\n",
    "    for i in q_dias_m:\n",
    "        parada = n+i*24 #calculo do comprimento da janela dos dados\n",
    "        with open(f'{arquivo}', 'r') as ds:\n",
    "            mes = ds.readlines()[n:parada]\n",
    "            for l in mes:\n",
    "                f = f+l #adiciona os dados extraidos do mes em questão para a variavel f\n",
    "            n = parada+18 #calculo do novo valor onde começará a proxima interação na variavel ds(dados)\n",
    "\n",
    "    nome_coluna = 'Data'.ljust(13)+'Hora'.ljust(11)+'dia'.ljust(12)+'dst\\n'\n",
    "\n",
    "    with open(f'dados/dst/dst_limpo{ano}.txt','w') as tesla:\n",
    "        tesla.write(nome_coluna)\n",
    "        tesla.writelines(f)"
   ]
  },
  {
   "cell_type": "markdown",
   "metadata": {},
   "source": [
    "# Leitura dos valores diarios do dst"
   ]
  },
  {
   "cell_type": "code",
   "execution_count": 19,
   "metadata": {},
   "outputs": [
    {
     "data": {
      "text/html": [
       "<div>\n",
       "<style scoped>\n",
       "    .dataframe tbody tr th:only-of-type {\n",
       "        vertical-align: middle;\n",
       "    }\n",
       "\n",
       "    .dataframe tbody tr th {\n",
       "        vertical-align: top;\n",
       "    }\n",
       "\n",
       "    .dataframe thead th {\n",
       "        text-align: right;\n",
       "    }\n",
       "</style>\n",
       "<table border=\"1\" class=\"dataframe\">\n",
       "  <thead>\n",
       "    <tr style=\"text-align: right;\">\n",
       "      <th></th>\n",
       "      <th>Data</th>\n",
       "      <th>Hora</th>\n",
       "      <th>dia</th>\n",
       "      <th>dst</th>\n",
       "    </tr>\n",
       "  </thead>\n",
       "  <tbody>\n",
       "    <tr>\n",
       "      <th>0</th>\n",
       "      <td>2001-01-01</td>\n",
       "      <td>00:00:00.000</td>\n",
       "      <td>1</td>\n",
       "      <td>-6.0</td>\n",
       "    </tr>\n",
       "    <tr>\n",
       "      <th>1</th>\n",
       "      <td>2001-01-01</td>\n",
       "      <td>01:00:00.000</td>\n",
       "      <td>1</td>\n",
       "      <td>-2.0</td>\n",
       "    </tr>\n",
       "    <tr>\n",
       "      <th>2</th>\n",
       "      <td>2001-01-01</td>\n",
       "      <td>02:00:00.000</td>\n",
       "      <td>1</td>\n",
       "      <td>2.0</td>\n",
       "    </tr>\n",
       "    <tr>\n",
       "      <th>3</th>\n",
       "      <td>2001-01-01</td>\n",
       "      <td>03:00:00.000</td>\n",
       "      <td>1</td>\n",
       "      <td>4.0</td>\n",
       "    </tr>\n",
       "    <tr>\n",
       "      <th>4</th>\n",
       "      <td>2001-01-01</td>\n",
       "      <td>04:00:00.000</td>\n",
       "      <td>1</td>\n",
       "      <td>1.0</td>\n",
       "    </tr>\n",
       "    <tr>\n",
       "      <th>...</th>\n",
       "      <td>...</td>\n",
       "      <td>...</td>\n",
       "      <td>...</td>\n",
       "      <td>...</td>\n",
       "    </tr>\n",
       "    <tr>\n",
       "      <th>8755</th>\n",
       "      <td>2001-12-31</td>\n",
       "      <td>19:00:00.000</td>\n",
       "      <td>365</td>\n",
       "      <td>-31.0</td>\n",
       "    </tr>\n",
       "    <tr>\n",
       "      <th>8756</th>\n",
       "      <td>2001-12-31</td>\n",
       "      <td>20:00:00.000</td>\n",
       "      <td>365</td>\n",
       "      <td>-32.0</td>\n",
       "    </tr>\n",
       "    <tr>\n",
       "      <th>8757</th>\n",
       "      <td>2001-12-31</td>\n",
       "      <td>21:00:00.000</td>\n",
       "      <td>365</td>\n",
       "      <td>-42.0</td>\n",
       "    </tr>\n",
       "    <tr>\n",
       "      <th>8758</th>\n",
       "      <td>2001-12-31</td>\n",
       "      <td>22:00:00.000</td>\n",
       "      <td>365</td>\n",
       "      <td>-43.0</td>\n",
       "    </tr>\n",
       "    <tr>\n",
       "      <th>8759</th>\n",
       "      <td>2001-12-31</td>\n",
       "      <td>23:00:00.000</td>\n",
       "      <td>365</td>\n",
       "      <td>-41.0</td>\n",
       "    </tr>\n",
       "  </tbody>\n",
       "</table>\n",
       "<p>8760 rows × 4 columns</p>\n",
       "</div>"
      ],
      "text/plain": [
       "            Data          Hora  dia   dst\n",
       "0     2001-01-01  00:00:00.000    1  -6.0\n",
       "1     2001-01-01  01:00:00.000    1  -2.0\n",
       "2     2001-01-01  02:00:00.000    1   2.0\n",
       "3     2001-01-01  03:00:00.000    1   4.0\n",
       "4     2001-01-01  04:00:00.000    1   1.0\n",
       "...          ...           ...  ...   ...\n",
       "8755  2001-12-31  19:00:00.000  365 -31.0\n",
       "8756  2001-12-31  20:00:00.000  365 -32.0\n",
       "8757  2001-12-31  21:00:00.000  365 -42.0\n",
       "8758  2001-12-31  22:00:00.000  365 -43.0\n",
       "8759  2001-12-31  23:00:00.000  365 -41.0\n",
       "\n",
       "[8760 rows x 4 columns]"
      ]
     },
     "execution_count": 19,
     "metadata": {},
     "output_type": "execute_result"
    }
   ],
   "source": [
    "df = pd.read_fwf('dados/dst/dst_limpo2001.txt')\n",
    "dst = df.groupby('dia').mean() #agrupando os valores e fazendo a media\n",
    "df"
   ]
  }
 ],
 "metadata": {
  "interpreter": {
   "hash": "3a1eff748654c32320700dc4da3490274ee34bdcbf7a763423838b126121f014"
  },
  "kernelspec": {
   "display_name": "Python 3.10.4 ('.venv': venv)",
   "language": "python",
   "name": "python3"
  },
  "language_info": {
   "codemirror_mode": {
    "name": "ipython",
    "version": 3
   },
   "file_extension": ".py",
   "mimetype": "text/x-python",
   "name": "python",
   "nbconvert_exporter": "python",
   "pygments_lexer": "ipython3",
   "version": "3.10.4"
  }
 },
 "nbformat": 4,
 "nbformat_minor": 2
}
